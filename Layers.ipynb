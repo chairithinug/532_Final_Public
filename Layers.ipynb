{
 "cells": [
  {
   "cell_type": "code",
   "execution_count": 34,
   "metadata": {},
   "outputs": [],
   "source": [
    "import numpy as np\n",
    "\n",
    "class Convolution:\n",
    "    #include init? idk\n",
    "        \n",
    "    # Given set of filters (features), iterate over input and multiply\n",
    "    # img_in: a NxM matrix representing one of the RGB values of the input\n",
    "    # features: filters/features that we compare the input against\n",
    "    # returns a PxQ matrix (P<N, Q<M) where each value is the result of multiplying\n",
    "    # filter with the input, then dividing by the size of the filter\n",
    "    def forward_prop(self, img_in, features, step_size):\n",
    "        N = len(img_in)\n",
    "        M = len(img_in[0])\n",
    "        # if step size doesn't match up -> padding()\n",
    "        \n",
    "        # gives us amount of padding needed\n",
    "        pad_N = (N - len(features)) % step_size\n",
    "        pad_M = (M - len(features[0])) % step_size\n",
    "        \n",
    "        img_in = self.padding(img_in, N+pad_N, M+pad_M) #padded img\n",
    "        \n",
    "        # should be whole numbers\n",
    "        P = (len(img_in) - len(features)) / step_size + 1\n",
    "        Q = (len(img_in[0]) - len(features)) / step_size + 1\n",
    "        \n",
    "        # find good ways to add padding, possibly this part is not needed?\n",
    "        if P.is_integer() is False:\n",
    "            return \"Bad Dimension P\"\n",
    "        if Q.is_integer() is False:\n",
    "            return \"Bad dimension Q\"\n",
    "        else:\n",
    "            P = int(P)\n",
    "            Q = int(Q)\n",
    "            \n",
    "        print(P, Q)\n",
    "        out = np.zeros((P, Q)) # PxQ output array\n",
    "        \n",
    "        # iterate thru the input and output to corresponding part in out\n",
    "        for i in range(0, P):\n",
    "            for j in range (0, Q):\n",
    "                # Take dot product of the flattened filter and part it is covering\n",
    "                out[i, j] = np.dot(np.ndarray.flatten(img_in[i:i+len(features),\n",
    "                            j:j+len(features[0])]), np.ndarray.flatten(features))\n",
    "        \n",
    "        return out\n",
    "    def back_prop(): \n",
    "        return None\n",
    "    \n",
    "    # Add 0s to the N and M sides of the input as needed\n",
    "    def padding(self, orig_img, N, M):\n",
    "        pad_arr = np.zeros((N, M))\n",
    "        pad_arr[:orig_img.shape[0], :orig_img.shape[1]] = orig_img\n",
    "        return pad_arr\n",
    "    \n",
    "class Pooling: \n",
    "    def forward_prop():\n",
    "        return None\n",
    "    def back_prop():\n",
    "        return None\n",
    "    \n",
    "class ReLU_Act():\n",
    "    def forward_prop():\n",
    "        return None\n",
    "    def back_prop():\n",
    "        return None\n",
    "    \n",
    "class Sigmoid_Act():\n",
    "    def forward_prop():\n",
    "        return None\n",
    "    def back_prop():\n",
    "        return None\n",
    "    \n",
    "class Flatten_Matrix(): \n",
    "    def forward_prop():\n",
    "        return None\n",
    "    def back_prop():\n",
    "        return None\n",
    "          "
   ]
  },
  {
   "cell_type": "code",
   "execution_count": 42,
   "metadata": {},
   "outputs": [
    {
     "name": "stdout",
     "output_type": "stream",
     "text": [
      "2 2\n",
      "[[ 40.  34.]\n",
      " [ 40.  40.]]\n"
     ]
    }
   ],
   "source": [
    "# tests\n",
    "def test_conv_forward():\n",
    "    test_arr = np.array(([5, 5, 2],\n",
    "                         [5, 5, 5],\n",
    "                         [5, 5, 5]))\n",
    "    feat_arr = np.array(([2, 2], \n",
    "                         [2, 2]))\n",
    "    step = 2\n",
    "    conv_layer = Convolution()\n",
    "    print(conv_layer.forward_prop(test_arr, feat_arr, step))\n",
    "    \n",
    "test_conv_forward()"
   ]
  },
  {
   "cell_type": "code",
   "execution_count": null,
   "metadata": {},
   "outputs": [],
   "source": []
  }
 ],
 "metadata": {
  "kernelspec": {
   "display_name": "Python 3",
   "language": "python",
   "name": "python3"
  },
  "language_info": {
   "codemirror_mode": {
    "name": "ipython",
    "version": 3
   },
   "file_extension": ".py",
   "mimetype": "text/x-python",
   "name": "python",
   "nbconvert_exporter": "python",
   "pygments_lexer": "ipython3",
   "version": "3.6.6"
  }
 },
 "nbformat": 4,
 "nbformat_minor": 2
}
