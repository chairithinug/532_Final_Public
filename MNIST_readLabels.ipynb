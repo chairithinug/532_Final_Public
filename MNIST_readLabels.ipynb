{
 "cells": [
  {
   "cell_type": "code",
   "execution_count": 2,
   "metadata": {},
   "outputs": [],
   "source": [
    "import numpy as np\n",
    "import struct"
   ]
  },
  {
   "cell_type": "code",
   "execution_count": 5,
   "metadata": {},
   "outputs": [
    {
     "name": "stdout",
     "output_type": "stream",
     "text": [
      "(60000,)\n",
      "[5 0 4 ... 5 6 8]\n"
     ]
    }
   ],
   "source": [
    "# idx format structure\n",
    "\n",
    "# idx3 (images)\n",
    "#[offset] [type]          [value]          [description]\n",
    "#0000     32 bit integer  0x00000801(2049) magic number (MSB first)\n",
    "#0004     32 bit integer  60000            number of items\n",
    "#0008     unsigned byte   ??               label\n",
    "#0009     unsigned byte   ??               label\n",
    "\n",
    "# idx1 (labels)\n",
    "#0008     32 bit integer  28               number of rows\n",
    "#0012     32 bit integer  28               number of columns\n",
    "#0016     unsigned byte   ??               pixel\n",
    "#0017     unsigned byte   ??               pixel\n",
    "\n",
    "path = './train-labels-idx1-ubyte'\n",
    "with open(path, 'rb') as f:\n",
    "    magicN, nImages = struct.unpack(\">II\", f.read(8)) # read first 8 bytes (2x32-bit int)\n",
    "    data = np.fromfile(f, dtype=np.dtype(np.uint8).newbyteorder('>')) # big endian\n",
    "f.close()\n",
    "print(np.shape(data))\n",
    "print(data)"
   ]
  }
 ],
 "metadata": {
  "kernelspec": {
   "display_name": "Python 3",
   "language": "python",
   "name": "python3"
  },
  "language_info": {
   "codemirror_mode": {
    "name": "ipython",
    "version": 3
   },
   "file_extension": ".py",
   "mimetype": "text/x-python",
   "name": "python",
   "nbconvert_exporter": "python",
   "pygments_lexer": "ipython3",
   "version": "3.7.4"
  }
 },
 "nbformat": 4,
 "nbformat_minor": 2
}
