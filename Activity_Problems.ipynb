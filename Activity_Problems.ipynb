{
 "cells": [
  {
   "cell_type": "code",
   "execution_count": 13,
   "metadata": {},
   "outputs": [],
   "source": [
    "import csv\n",
    "import numpy as np\n",
    "import matplotlib.pyplot as plt"
   ]
  },
  {
   "cell_type": "code",
   "execution_count": null,
   "metadata": {},
   "outputs": [],
   "source": [
    "class Convolution:\n",
    "    #include init? idk\n",
    "    # num_img_in: Number of inputs\n",
    "    # filter_size: Size of kernel, will be square & less than 28\n",
    "    # num_filters: Number of filters to run input against\n",
    "    def __init__(self, num_img_in, filter_size, num_filters, step_size):\n",
    "        self.num_img_in = num_img_in\n",
    "        self.filter_size = filter_size\n",
    "        self.num_filters = num_filters\n",
    "        self.step_size = step_size\n",
    "        \n",
    "    def forward_prop(self, img_in, features):\n",
    "        N = len(img_in)\n",
    "        M = len(img_in[0])\n",
    "        step_size = self.step_size\n",
    "        # if step size doesn't match up -> padding()\n",
    "        # gives us amount of padding needed\\n\",\n",
    "        pad_N = (N - len(features)) % step_size\n",
    "        pad_M = (M - len(features[0])) % step_size\n",
    "        img_in = self.padding(img_in, N+pad_N, M+pad_M) #padded img\n",
    "        print(img_in)\n",
    "        # should be whole numbers\\n\",\n",
    "        P = (len(img_in) - len(features)) / step_size + 1\n",
    "        Q = (len(img_in[0]) - len(features)) / step_size + 1\n",
    "\n",
    "        # find good ways to add padding, possibly this part is not needed?\n",
    "        if P.is_integer() is False:\n",
    "            return \"Bad Dimension P\"\n",
    "        if Q.is_integer() is False:\n",
    "            return \"Bad dimension Q\"\n",
    "        else:\n",
    "            P = int(P)\n",
    "            Q = int(Q)\n",
    "\n",
    "        print(P, Q)\n",
    "        out = np.zeros((self.num_filters, P, Q)) # PxQ output array\\n\",\n",
    "\n",
    "        # iterate thru the input and output to corresponding part in out\n",
    "        # output f amount of filters from each layer\n",
    "        for f in range(0, self.num_filters):\n",
    "            for i in range(0, P):\n",
    "                for j in range (0, Q):\n",
    "                    # Take dot product of the flattened filter and part it is covering\\n\",\n",
    "                    out[f, i, j] = np.dot(np.ndarray.flatten(img_in[i:i+len(features[f]),\n",
    "                        j:j+len(features[f][0])]), np.ndarray.flatten(features[f]))\n",
    "        return out\n",
    "        \n",
    "    # Given set of filters (features) #odd x #odd, iterate over input and multiply\n",
    "    # img_in: a square NxM #even x #even matrix representing one of the RGB values of the input\n",
    "    # features: filters/features that we compare the input against\n",
    "    # step_size: fixed to 1 (does not have any effect)\n",
    "    # returns a NxM matrix where each value is the result of multiplying\n",
    "    # filter with the input, then dividing by the size of the filter\n",
    "    # pad\n",
    "    # Need to add filters to feature map\n",
    "    def forward_prop_A(self, img_in, features, pad):\n",
    "        N = len(img_in)\n",
    "        M = len(img_in[0])\n",
    "        \n",
    "        # padded img as specified\n",
    "        img_in = self.padding(img_in, N + 2 * pad, M + 2 * pad)\n",
    "\n",
    "        # stride here is 1\n",
    "        # out_N = (N - features_size + 2*pad_N) / stride + 1\n",
    "        # out_M = (M - features_size + 2*pad_M) / stride + 1\n",
    "        stride = 1\n",
    "        # NxM output array (square)\n",
    "        # assume the number is divisible by the stride\n",
    "        out = np.zeros((len(features)\n",
    "                        , (N - len(features[0]) + 2 * pad) // stride + 1\n",
    "                        , (M - len(features[0][0]) + 2 * pad) // stride + 1 ))\n",
    "        \n",
    "        # iterate thru the input and output to corresponding part in out\n",
    "        for f in range(0, self.num_filters):\n",
    "            for i in range(0, len(out[0])):\n",
    "                for j in range (0, len(out[0][0])):\n",
    "                    # Take dot product of the flattened filter and part of input it is covering\n",
    "                    out[f, i, j] = np.dot(np.ndarray.flatten(img_in[i:i+len(features[f]),\n",
    "                                    j:j+len(features[f][0])]), np.ndarray.flatten(features[f]))\n",
    "        return out\n",
    "    \n",
    "    # assume stride = 1 (not tested for stride > 1)\n",
    "    # loss = loss gradient from the next layer (feeding back to previous layer)\n",
    "    # filter_weight = previous/original kernel/filter\n",
    "    # learning_rate = alpha or how much change we want (the same across the network)\n",
    "    # pad = pad_size must be the same as forward_prop's pad size for this layer.\n",
    "    # loss_size = img_size\n",
    "    def back_prop(self, img_in, loss, filter_weight, learning_rate, pad):\n",
    "        dL_dF = np.zeros(np.shape(filter_weight))\n",
    "        X = img_in\n",
    "        N = len(X)\n",
    "        M = len(X[0])\n",
    "\n",
    "        # padded img\n",
    "        X = self.padding(X, N + 2*pad, M + 2*pad)\n",
    "        print(\"padded img\", X)\n",
    "        \n",
    "        # update filter\n",
    "        # X is the image @ this stage\n",
    "        # chain rule: dL_dF = dL_dO * dO_dF\n",
    "        # but dL_dO is the input loss\n",
    "        # and dO_dF results in the image X\n",
    "        # dL_dF = convolution 2d between X (image @ this stage) and loss   \n",
    "        # ex. dL_dF 3x3 =  Conv image 4x4 (padded to 6x6), loss 4x4\n",
    "        for i in range(0, N - 1):\n",
    "            for j in range (0, M - 1):\n",
    "                # print(np.ndarray.flatten(X[i:i+len(loss), j:j+len(loss[0])]))\n",
    "                dL_dF[i, j] = np.dot(np.ndarray.flatten(X[i:i+len(loss),\n",
    "                            j:j+len(loss[0])]), np.ndarray.flatten(loss))\n",
    "        print(\"dL_dF\")\n",
    "        print(dL_dF)\n",
    "        \n",
    "        \n",
    "        # update the image X\n",
    "        # need to rotate the filter 180deg and pad it\n",
    "        # convolution from right to left and bottom to top\n",
    "        # F33 F32 F31\n",
    "        # F23 F22 F21\n",
    "        # F13 F12 F11\n",
    "        dL_dX = np.zeros(np.shape(img_in))\n",
    "        # rotate the filter 180deg\n",
    "        rot_filter_weight = np.rot90(filter_weight, 2)\n",
    "        # pad the filter \n",
    "        loss = self.padding(loss, N + 2*pad, M + 2*pad)\n",
    "        print(\"padded loss\")\n",
    "        print(loss)\n",
    "        # dL_dX = convolution 2d between rot180(Filter) and loss \n",
    "        # convolution from right to left and bottom to top\n",
    "        for i in range(N - 1, -1, -1):\n",
    "            for j in range (M - 1, -1, -1):\n",
    "                #print(i,j)\n",
    "                #print(np.ndarray.flatten(loss[i:i+len(rot_filter_weight), j:j+len(rot_filter_weight[0])]))\n",
    "                dL_dX[i, j] = np.dot(np.ndarray.flatten(loss[i:i+len(rot_filter_weight),\n",
    "                            j:j+len(rot_filter_weight[0])]), np.ndarray.flatten(rot_filter_weight))\n",
    "        \n",
    "        print(\"dL_dX\")\n",
    "        print(dL_dX)\n",
    "        # F = F - a * dL/dF\n",
    "        filter_weight = filter_weight - learning_rate * dL_dF\n",
    "        print(\"updated_features\")\n",
    "        print(filter_weight)\n",
    "        return filter_weight, X\n",
    "    \n",
    "    # Add 0s to the border of orig_img as needed to achieve NxM matrix\n",
    "    # assume orig_img is a square matrix with #odd x #odd\n",
    "    def padding(self, orig_img, N, M):\n",
    "        #print(\"print\" ,np.shape(orig_img))\n",
    "        if N - np.shape(orig_img)[0] < 0 or M - np.shape(orig_img)[1] < 0:\n",
    "            raise \"target NxM must be larger or equal to orig_img\"\n",
    "        starting_row = (N - np.shape(orig_img)[0]) // 2\n",
    "        starting_column = (M - np.shape(orig_img)[1]) // 2\n",
    "        pad_arr = np.zeros((N, M))\n",
    "        pad_arr[starting_row:starting_row+np.shape(orig_img)[0], starting_column:starting_column+np.shape(orig_img)[1]] = orig_img\n",
    "        return pad_arr"
   ]
  },
  {
   "cell_type": "code",
   "execution_count": 10,
   "metadata": {},
   "outputs": [
    {
     "data": {
      "image/png": "[encoded data removed]",
      "text/plain": [
       "<Figure size 432x288 with 1 Axes>"
      ]
     },
     "metadata": {
      "needs_background": "light"
     },
     "output_type": "display_data"
    }
   ],
   "source": [
    "data = []\n",
    "with open('./img.csv') as img_file:\n",
    "    csv_read = csv.reader(img_file)\n",
    "    for row in csv_read:\n",
    "        data.append(list(map(int, row)))\n",
    "    \n",
    "plt.imshow(data, cmap='gray')\n",
    "plt.show()"
   ]
  },
  {
   "cell_type": "code",
   "execution_count": 12,
   "metadata": {},
   "outputs": [
    {
     "data": {
      "image/png": "[encoded data removed]",
      "text/plain": [
       "<Figure size 432x288 with 1 Axes>"
      ]
     },
     "metadata": {
      "needs_background": "light"
     },
     "output_type": "display_data"
    },
    {
     "data": {
      "image/png": "[encoded data removed]",
      "text/plain": [
       "<Figure size 432x288 with 1 Axes>"
      ]
     },
     "metadata": {
      "needs_background": "light"
     },
     "output_type": "display_data"
    },
    {
     "data": {
      "image/png": "[encoded data removed]",
      "text/plain": [
       "<Figure size 432x288 with 1 Axes>"
      ]
     },
     "metadata": {
      "needs_background": "light"
     },
     "output_type": "display_data"
    }
   ],
   "source": [
    "kernels = []\n",
    "# fun fact, this is Gaussian blur\n",
    "kernel1 = 1/16*np.array([[1,2,1],[2,4,2],[1,2,1]])\n",
    "kernels.append(kernel1)\n",
    "plt.imshow(kernel1, cmap='gray')\n",
    "plt.show()\n",
    "# sharpen\n",
    "kernel2 = np.array([[0,-1,0],[-1,5,-1],[0,-1,0]])\n",
    "kernels.append(kernel2)\n",
    "plt.imshow(kernel2, cmap='gray')\n",
    "plt.show()\n",
    "# edge detection\n",
    "kernel3 = np.array([[-1,-1,-1],[-1,8,-1],[-1,-1,-1]])\n",
    "kernels.append(kernel3)\n",
    "plt.imshow(kernel3, cmap='gray')\n",
    "plt.show()"
   ]
  }
 ],
 "metadata": {
  "kernelspec": {
   "display_name": "Python 3",
   "language": "python",
   "name": "python3"
  },
  "language_info": {
   "codemirror_mode": {
    "name": "ipython",
    "version": 3
   },
   "file_extension": ".py",
   "mimetype": "text/x-python",
   "name": "python",
   "nbconvert_exporter": "python",
   "pygments_lexer": "ipython3",
   "version": "3.7.4"
  }
 },
 "nbformat": 4,
 "nbformat_minor": 2
}
